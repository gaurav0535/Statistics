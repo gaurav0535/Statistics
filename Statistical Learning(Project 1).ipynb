{
 "cells": [
  {
   "cell_type": "code",
   "execution_count": null,
   "metadata": {},
   "outputs": [],
   "source": [
    "import pandas as pd\n",
    "import numpy as np"
   ]
  },
  {
   "cell_type": "code",
   "execution_count": 83,
   "metadata": {},
   "outputs": [
    {
     "data": {
      "text/plain": [
       "Pos               int64\n",
       "Team             object\n",
       "Seasons           int64\n",
       "Points           object\n",
       "GamesPlayed      object\n",
       "GamesWon         object\n",
       "GamesDrawn       object\n",
       "GamesLost        object\n",
       "GoalsFor         object\n",
       "GoalsAgainst     object\n",
       "Champion         object\n",
       "Runner-up        object\n",
       "Third            object\n",
       "Fourth           object\n",
       "Fifth            object\n",
       "Sixth            object\n",
       "T                object\n",
       "Debut            object\n",
       "Since/LastApp    object\n",
       "BestPosition      int64\n",
       "dtype: object"
      ]
     },
     "execution_count": 83,
     "metadata": {},
     "output_type": "execute_result"
    }
   ],
   "source": [
    "df = pd.read_csv(\"Laliga.csv\" , skiprows = 1)\n",
    "df.dtypes\n"
   ]
  },
  {
   "cell_type": "markdown",
   "metadata": {},
   "source": [
    "# **Read the data set and replace dashes with 0 to make sure you can perform arithmetic operations on the data. (2.5 points)**"
   ]
  },
  {
   "cell_type": "code",
   "execution_count": 84,
   "metadata": {},
   "outputs": [
    {
     "data": {
      "text/plain": [
       "Pos               int64\n",
       "Team             object\n",
       "Seasons           int64\n",
       "Points            int64\n",
       "GamesPlayed       int64\n",
       "GamesWon          int64\n",
       "GamesDrawn        int64\n",
       "GamesLost         int64\n",
       "GoalsFor          int64\n",
       "GoalsAgainst      int64\n",
       "Champion          int64\n",
       "Runner-up         int64\n",
       "Third             int64\n",
       "Fourth            int64\n",
       "Fifth             int64\n",
       "Sixth             int64\n",
       "T                 int64\n",
       "Debut            object\n",
       "Since/LastApp    object\n",
       "BestPosition      int64\n",
       "dtype: object"
      ]
     },
     "execution_count": 84,
     "metadata": {},
     "output_type": "execute_result"
    }
   ],
   "source": [
    "df.head()\n",
    "df = df.replace('-', 0)\n",
    "df=df.apply(pd.to_numeric,errors='ignore')\n",
    "df.dtypes\n",
    "#df[['Points','GamesPlayed']].apply(pd.to_numeric,errors='coerce')\n",
    "#df=df.apply(pd.to_numeric,errors='coerce'---> I was just checking "
   ]
  },
  {
   "cell_type": "markdown",
   "metadata": {},
   "source": [
    "# **Print all the teams which have started playing between 1930-1980.**"
   ]
  },
  {
   "cell_type": "code",
   "execution_count": 103,
   "metadata": {},
   "outputs": [
    {
     "data": {
      "text/plain": [
       "Index(['Pos', 'Team', 'Seasons', 'Points', 'GamesPlayed', 'GamesWon',\n",
       "       'GamesDrawn', 'GamesLost', 'GoalsFor', 'GoalsAgainst', 'Champion',\n",
       "       'Runner-up', 'Third', 'Fourth', 'Fifth', 'Sixth', 'T', 'Debut',\n",
       "       'Since/LastApp', 'BestPosition'],\n",
       "      dtype='object')"
      ]
     },
     "execution_count": 103,
     "metadata": {},
     "output_type": "execute_result"
    }
   ],
   "source": [
    "#convert the team debut to date time then see how it works \n",
    "df['Debut'].apply(pd.to_timedelta)\n",
    "df.dtypes\n",
    "df['']"
   ]
  },
  {
   "cell_type": "code",
   "execution_count": 116,
   "metadata": {},
   "outputs": [],
   "source": [
    "df['Debut Year numeric']=df['Debut'].str.slice(0,4).apply(pd.to_numeric)"
   ]
  },
  {
   "cell_type": "code",
   "execution_count": 117,
   "metadata": {},
   "outputs": [
    {
     "data": {
      "text/plain": [
       "Index(['Pos', 'Team', 'Seasons', 'Points', 'GamesPlayed', 'GamesWon',\n",
       "       'GamesDrawn', 'GamesLost', 'GoalsFor', 'GoalsAgainst', 'Champion',\n",
       "       'Runner-up', 'Third', 'Fourth', 'Fifth', 'Sixth', 'T', 'Debut',\n",
       "       'Since/LastApp', 'BestPosition', 'Debut Year numeric'],\n",
       "      dtype='object')"
      ]
     },
     "execution_count": 117,
     "metadata": {},
     "output_type": "execute_result"
    }
   ],
   "source": [
    "df.columns"
   ]
  },
  {
   "cell_type": "code",
   "execution_count": 118,
   "metadata": {},
   "outputs": [],
   "source": [
    "\n",
    "df = df.set_index('Debut Year numeric')"
   ]
  },
  {
   "cell_type": "code",
   "execution_count": 120,
   "metadata": {},
   "outputs": [],
   "source": [
    "df.sort_index(inplace=True)"
   ]
  },
  {
   "cell_type": "code",
   "execution_count": 148,
   "metadata": {},
   "outputs": [
    {
     "data": {
      "text/plain": [
       "11               Valencia\n",
       "12             Real Betis\n",
       "13                 Oviedo\n",
       "14                Sevilla\n",
       "15                Osasuna\n",
       "16               Hercules\n",
       "17             Celta Vigo\n",
       "18               Zaragoza\n",
       "19                 Murcia\n",
       "20                Granada\n",
       "21    Deportivo La Coruna\n",
       "22              Castellon\n",
       "23               Sabadell\n",
       "24         Sporting Gijon\n",
       "25               Alcoyano\n",
       "26              Gimnastic\n",
       "27             Valladolid\n",
       "28                 Malaga\n",
       "29                 Lleida\n",
       "30        Atletico Tetuan\n",
       "31             Las Palmas\n",
       "32                   Jaen\n",
       "33       Cultural Leonesa\n",
       "34                 Condal\n",
       "35                  Elche\n",
       "36               Mallorca\n",
       "37               Tenerife\n",
       "38                Cordoba\n",
       "39                Levante\n",
       "40             Pontevedra\n",
       "41              Burgos CF\n",
       "42              Salamanca\n",
       "43                  Cadiz\n",
       "44         Rayo Vallecano\n",
       "45             Recreativo\n",
       "46             AD Almeria\n",
       "Name: Team, dtype: object"
      ]
     },
     "execution_count": 148,
     "metadata": {},
     "output_type": "execute_result"
    }
   ],
   "source": [
    "\n",
    "countries = df[(df['Debut Year numeric']>1930) & (df['Debut Year numeric']<1980)]\n",
    "countries['Team'].count()\n",
    "\n",
    "countries['Team']"
   ]
  },
  {
   "cell_type": "markdown",
   "metadata": {},
   "source": [
    "#  Print the list of teams which came Top 5 in terms of points (2.5 points)"
   ]
  },
  {
   "cell_type": "code",
   "execution_count": 151,
   "metadata": {},
   "outputs": [
    {
     "data": {
      "text/plain": [
       "Index(['level_0', 'index', 'Debut Year numeric', 'Pos', 'Team', 'Seasons',\n",
       "       'Points', 'GamesPlayed', 'GamesWon', 'GamesDrawn', 'GamesLost',\n",
       "       'GoalsFor', 'GoalsAgainst', 'Champion', 'Runner-up', 'Third', 'Fourth',\n",
       "       'Fifth', 'Sixth', 'T', 'Debut', 'Since/LastApp', 'BestPosition'],\n",
       "      dtype='object')"
      ]
     },
     "execution_count": 151,
     "metadata": {},
     "output_type": "execute_result"
    }
   ],
   "source": [
    "df.columns\n",
    "#df.sort_values()"
   ]
  },
  {
   "cell_type": "code",
   "execution_count": 162,
   "metadata": {},
   "outputs": [
    {
     "data": {
      "text/plain": [
       "0         Real Madrid\n",
       "8           Barcelona\n",
       "7     Atletico Madrid\n",
       "11           Valencia\n",
       "6     Athletic Bilbao\n",
       "Name: Team, dtype: object"
      ]
     },
     "execution_count": 162,
     "metadata": {},
     "output_type": "execute_result"
    }
   ],
   "source": [
    "top5=df.sort_values('Points',ascending=False).head(5)\n",
    "top5['Team']\n"
   ]
  },
  {
   "cell_type": "markdown",
   "metadata": {},
   "source": [
    "# Write a function with name “Goal_diff_count” which should return all the teams with their Goal Differences. Using the same function, find the team which has maximum and minimum goal difference. (5 points)"
   ]
  },
  {
   "cell_type": "code",
   "execution_count": 184,
   "metadata": {},
   "outputs": [],
   "source": [
    "def Goal_diff_count():\n",
    "    Goal_diff_count = df['GoalsFor'] - df['GoalsAgainst']\n",
    "    return Goal_diff_count"
   ]
  },
  {
   "cell_type": "code",
   "execution_count": 189,
   "metadata": {},
   "outputs": [],
   "source": [
    "df['Goal_diff_count'] = Goal_diff_count()"
   ]
  },
  {
   "cell_type": "code",
   "execution_count": 215,
   "metadata": {},
   "outputs": [
    {
     "name": "stdout",
     "output_type": "stream",
     "text": [
      "Team with maximum goal difference Team    Real Madrid\n",
      "Name: 0, dtype: object\n"
     ]
    },
    {
     "name": "stderr",
     "output_type": "stream",
     "text": [
      "C:\\Users\\Gaurav\\Anaconda3\\lib\\site-packages\\ipykernel\\__main__.py:2: FutureWarning: 'argmax' is deprecated. Use 'idxmax' instead. The behavior of 'argmax' will be corrected to return the positional maximum in the future. Use 'series.values.argmax' to get the position of the maximum now.\n",
      "  from ipykernel import kernelapp as app\n",
      "C:\\Users\\Gaurav\\Anaconda3\\lib\\site-packages\\pandas\\core\\common.py:477: FutureWarning: 'argmax' is deprecated. Use 'idxmax' instead. The behavior of 'argmax' will be corrected to return the positional maximum in the future. Use 'series.values.argmax' to get the position of the maximum now.\n",
      "  return maybe_callable(obj, **kwargs)\n"
     ]
    }
   ],
   "source": [
    "df = df.apply(pd.to_numeric,errors='ignore')\n",
    "df['Goal_diff_count'].argmax()\n",
    "max_goal_team=df.iloc[df['Goal_diff_count'].argmax,4:5]\n",
    "print(\"Team with maximum goal difference\",max_goal_team)"
   ]
  },
  {
   "cell_type": "code",
   "execution_count": 217,
   "metadata": {},
   "outputs": [
    {
     "name": "stdout",
     "output_type": "stream",
     "text": [
      "Team with mainimum goal difference Team    Racing Santander\n",
      "Name: 1, dtype: object\n"
     ]
    },
    {
     "name": "stderr",
     "output_type": "stream",
     "text": [
      "C:\\Users\\Gaurav\\Anaconda3\\lib\\site-packages\\pandas\\core\\common.py:477: FutureWarning: 'argmin' is deprecated. Use 'idxmin' instead. The behavior of 'argmin' will be corrected to return the positional minimum in the future. Use 'series.values.argmin' to get the position of the minimum now.\n",
      "  return maybe_callable(obj, **kwargs)\n"
     ]
    }
   ],
   "source": [
    "min_goal_team = df.iloc[df['Goal_diff_count'].argmin,4:5]\n",
    "print(\"Team with mainimum goal difference\",min_goal_team)"
   ]
  },
  {
   "cell_type": "markdown",
   "metadata": {},
   "source": [
    "# Create a new column with name “Winning Percent” and append it to the data set"
   ]
  },
  {
   "cell_type": "code",
   "execution_count": 218,
   "metadata": {},
   "outputs": [],
   "source": [
    "df['Winning Percent'] = (df['GamesWon']/df['GamesPlayed'])*100"
   ]
  },
  {
   "cell_type": "code",
   "execution_count": 225,
   "metadata": {},
   "outputs": [
    {
     "data": {
      "text/plain": [
       "0     59.630702\n",
       "1     31.722689\n",
       "2     33.076923\n",
       "3     37.532580\n",
       "4     36.100533\n",
       "5     29.166667\n",
       "6     43.772629\n",
       "7     47.475134\n",
       "8     57.241130\n",
       "9     33.333333\n",
       "10    32.894737\n",
       "11    44.557057\n",
       "12    35.069444\n",
       "13    34.228188\n",
       "14    41.112957\n",
       "15    32.321700\n",
       "16    29.299363\n",
       "17    34.511190\n",
       "18    35.146022\n",
       "19    24.744027\n",
       "20    29.380054\n",
       "21    36.797386\n",
       "22    30.838323\n",
       "23    30.281690\n",
       "24    32.304527\n",
       "25    27.777778\n",
       "26    29.310345\n",
       "27    31.582538\n",
       "28    31.075697\n",
       "29    19.117647\n",
       "        ...    \n",
       "31    33.485401\n",
       "32    32.222222\n",
       "33    16.666667\n",
       "34    23.333333\n",
       "35    29.941003\n",
       "36    33.704453\n",
       "37    31.376518\n",
       "38    29.078014\n",
       "39    28.109453\n",
       "40    29.444444\n",
       "41    28.921569\n",
       "42    29.078014\n",
       "43    23.214286\n",
       "44    28.987730\n",
       "45    26.881720\n",
       "46    25.000000\n",
       "47    27.745665\n",
       "48    22.807018\n",
       "49    28.148148\n",
       "50    32.500000\n",
       "51    23.750000\n",
       "52    25.000000\n",
       "53    41.176471\n",
       "54    24.342105\n",
       "55    32.236842\n",
       "56    27.192982\n",
       "57    21.052632\n",
       "58    30.701754\n",
       "59    21.052632\n",
       "60     0.000000\n",
       "Name: Winning Percent, Length: 61, dtype: float64"
      ]
     },
     "execution_count": 225,
     "metadata": {},
     "output_type": "execute_result"
    }
   ],
   "source": [
    "df['Winning Percent'].fillna(0)"
   ]
  },
  {
   "cell_type": "markdown",
   "metadata": {},
   "source": [
    "# Print the top 5 teams which has the highest Winning percentage"
   ]
  },
  {
   "cell_type": "code",
   "execution_count": 239,
   "metadata": {},
   "outputs": [
    {
     "data": {
      "text/plain": [
       "Winning Percent\n",
       "59.630702        Real Madrid\n",
       "57.241130          Barcelona\n",
       "47.475134    Atletico Madrid\n",
       "44.557057           Valencia\n",
       "43.772629    Athletic Bilbao\n",
       "Name: Team, dtype: object"
      ]
     },
     "execution_count": 239,
     "metadata": {},
     "output_type": "execute_result"
    }
   ],
   "source": [
    "df=df.set_index(df['Winning Percent'])\n",
    "Most_wi_team=df.sort_index(ascending=False).head(5)\n",
    "Most_wi_team['Team']"
   ]
  },
  {
   "cell_type": "markdown",
   "metadata": {},
   "source": [
    "# Group teams based on their “Best position” and print the sum of their points for all positions (5 points)\n",
    " "
   ]
  },
  {
   "cell_type": "code",
   "execution_count": 309,
   "metadata": {},
   "outputs": [
    {
     "data": {
      "text/plain": [
       "BestPosition\n",
       "1     27933\n",
       "2      6904\n",
       "3      5221\n",
       "4      6563\n",
       "5      1884\n",
       "6      2113\n",
       "7      1186\n",
       "8      1134\n",
       "9        96\n",
       "10      450\n",
       "11      445\n",
       "12      511\n",
       "14       71\n",
       "15       14\n",
       "16       81\n",
       "17      266\n",
       "19       81\n",
       "20       34\n",
       "Name: Points, dtype: int64"
      ]
     },
     "execution_count": 309,
     "metadata": {},
     "output_type": "execute_result"
    }
   ],
   "source": [
    "df.groupby('BestPosition')['Points'].sum()"
   ]
  },
  {
   "cell_type": "code",
   "execution_count": null,
   "metadata": {},
   "outputs": [],
   "source": []
  }
 ],
 "metadata": {
  "kernelspec": {
   "display_name": "Python [conda env:Anaconda3]",
   "language": "python",
   "name": "conda-env-Anaconda3-py"
  },
  "language_info": {
   "codemirror_mode": {
    "name": "ipython",
    "version": 3
   },
   "file_extension": ".py",
   "mimetype": "text/x-python",
   "name": "python",
   "nbconvert_exporter": "python",
   "pygments_lexer": "ipython3",
   "version": "3.6.4"
  }
 },
 "nbformat": 4,
 "nbformat_minor": 2
}
